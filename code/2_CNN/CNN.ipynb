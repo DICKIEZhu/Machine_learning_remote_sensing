{
  "nbformat": 4,
  "nbformat_minor": 0,
  "metadata": {
    "colab": {
      "name": "CNN",
      "version": "0.3.2",
      "provenance": [],
      "collapsed_sections": []
    },
    "kernelspec": {
      "name": "python3",
      "display_name": "Python 3"
    },
    "accelerator": "GPU"
  },
  "cells": [
    {
      "cell_type": "code",
      "metadata": {
        "id": "y3d4W8ILA0b0",
        "colab_type": "code",
        "outputId": "ecf756f8-2978-4341-8993-ecf4731bee27",
        "colab": {
          "base_uri": "https://localhost:8080/",
          "height": 35
        }
      },
      "source": [
        "# 获取Google网盘的访问权限\n",
        "\n",
        "from google.colab import drive\n",
        "drive.mount('/content/gdrive')"
      ],
      "execution_count": 1,
      "outputs": [
        {
          "output_type": "stream",
          "text": [
            "Drive already mounted at /content/gdrive; to attempt to forcibly remount, call drive.mount(\"/content/gdrive\", force_remount=True).\n"
          ],
          "name": "stdout"
        }
      ]
    },
    {
      "cell_type": "code",
      "metadata": {
        "id": "ZvgCplTwBIBN",
        "colab_type": "code",
        "colab": {}
      },
      "source": [
        "import torch\n",
        "import torch.nn as nn\n",
        "import torch.nn.functional as F\n",
        "import torch.optim as optim\n",
        "from torchvision import datasets, transforms\n",
        "from torch.utils.data import Dataset\n",
        "from PIL import Image\n",
        "import matplotlib.pyplot as plt"
      ],
      "execution_count": 0,
      "outputs": []
    },
    {
      "cell_type": "code",
      "metadata": {
        "id": "tzwYo2y1BJUL",
        "colab_type": "code",
        "colab": {}
      },
      "source": [
        "# 参数设置\n",
        "\n",
        "BATCH_SIZE = 10\n",
        "EPOCHS = 10\n",
        "DEVICE = torch.device(\"cuda\" if torch.cuda.is_available() else \"cpu\")"
      ],
      "execution_count": 0,
      "outputs": []
    },
    {
      "cell_type": "code",
      "metadata": {
        "id": "aFOZOPcsBeym",
        "colab_type": "code",
        "colab": {}
      },
      "source": [
        "transform = transforms.Compose([\n",
        "    transforms.Resize(128),\n",
        "    transforms.ToTensor(),\n",
        "    transforms.Normalize((0.5, 0.5, 0.5), (0.5, 0.5, 0.5))    \n",
        "])"
      ],
      "execution_count": 0,
      "outputs": []
    },
    {
      "cell_type": "code",
      "metadata": {
        "id": "CmV9FYZqBkSL",
        "colab_type": "code",
        "colab": {}
      },
      "source": [
        "# 加载训练集与测试集\n",
        "\n",
        "train_txt_path = './gdrive/My Drive/remote/RSDataset/train.txt'\n",
        "test_txt_path = './gdrive/My Drive/remote/RSDataset/test.txt'\n",
        "\n",
        "class MyDataset(Dataset):\n",
        "    def __init__(self, txt_path, transform = None, target_transform = None):\n",
        "        fh = open(txt_path, 'r')\n",
        "        imgs = []\n",
        "        for line in fh:\n",
        "            line = line.rstrip()\n",
        "            words = line.split()\n",
        "            imgs.append((words[0]+' '+words[1],int(words[2])))\n",
        "\n",
        "        self.imgs = imgs        # 最主要就是要生成这个list， 然后DataLoader中给index，通过getitem读取图片数据\n",
        "        self.transform = transform\n",
        "        self.target_transform = target_transform\n",
        "\n",
        "    def __getitem__(self, index):\n",
        "        fn, label = self.imgs[index]\n",
        "        img = Image.open(fn).convert('RGB')     # 像素值 0~255，在transfrom.totensor会除以255，使像素值变成 0~1\n",
        "\n",
        "        if self.transform is not None:\n",
        "            img = self.transform(img)   # 在这里做transform，转为tensor等等\n",
        "\n",
        "        return img, label\n",
        "\n",
        "    def __len__(self):\n",
        "        return len(self.imgs)\n",
        "      \n",
        "train_data = MyDataset(txt_path=train_txt_path, transform = transform)\n",
        "train_loader = torch.utils.data.DataLoader(dataset=train_data, batch_size=BATCH_SIZE, shuffle=True)\n",
        "test_data = MyDataset(txt_path=test_txt_path, transform = transform)\n",
        "test_loader = torch.utils.data.DataLoader(dataset=test_data, batch_size=BATCH_SIZE, shuffle=True)"
      ],
      "execution_count": 0,
      "outputs": []
    },
    {
      "cell_type": "code",
      "metadata": {
        "id": "v91rCyLPDh0X",
        "colab_type": "code",
        "colab": {}
      },
      "source": [
        "# 构建CNN类\n",
        "\n",
        "class CNN_net_1(nn.Module):\n",
        "    def __init__(self):\n",
        "        super(CNN_net_1, self).__init__()\n",
        "        self.conv1 = nn.Conv2d(3, 10, 5)\n",
        "        self.pool1 = nn.MaxPool2d(2, 2)\n",
        "        self.conv2 = nn.Conv2d(10, 20, 5)\n",
        "        self.pool2 = nn.MaxPool2d(2, 2)\n",
        "        self.fc1 = nn.Linear(20*29*29, 1000)\n",
        "        self.fc2 = nn.Linear(1000, 19)\n",
        "        self.dropout=nn.Dropout()\n",
        "\n",
        "    def forward(self, x):\n",
        "        x = self.pool1(F.relu(self.conv1(x))) #10*148*148\n",
        "        x = self.pool2(F.relu(self.conv2(x))) # 20*36*36\n",
        "        x = x.view(-1, 20*29*29)\n",
        "        x = F.relu(self.fc1(x))\n",
        "        x = self.dropout(x)\n",
        "        x = F.log_softmax(self.fc2(x), dim=1)\n",
        "        return x"
      ],
      "execution_count": 0,
      "outputs": []
    },
    {
      "cell_type": "code",
      "metadata": {
        "id": "XlBSrryVF5LM",
        "colab_type": "code",
        "colab": {}
      },
      "source": [
        "# 实例化CNN模型\n",
        "\n",
        "model = CNN_net_1().to(DEVICE)\n",
        "optimizer = optim.Adam(model.parameters())"
      ],
      "execution_count": 0,
      "outputs": []
    },
    {
      "cell_type": "code",
      "metadata": {
        "id": "QClb9HSsF75W",
        "colab_type": "code",
        "colab": {}
      },
      "source": [
        "# 训练函数\n",
        "\n",
        "def train(model, device, train_loader, optimizer, epoch):\n",
        "    model.train()\n",
        "    for batch_idx, (data, target) in enumerate(train_loader):\n",
        "        data, target = data.to(device), target.to(device)\n",
        "        optimizer.zero_grad()\n",
        "        output = model(data)\n",
        "        loss = F.nll_loss(output, target)\n",
        "        loss.backward()\n",
        "        optimizer.step()\n",
        "        if (batch_idx + 1) % 10 == 0:\n",
        "            print('Train Epoch: {} [{}/{} ({:.0f}%)]\\tLoss: {:.6f}'.format(\n",
        "                epoch, batch_idx * len(data), len(train_loader.dataset),\n",
        "                100. * batch_idx / len(train_loader), loss.item()))"
      ],
      "execution_count": 0,
      "outputs": []
    },
    {
      "cell_type": "code",
      "metadata": {
        "id": "rtlDVinBLzUe",
        "colab_type": "code",
        "colab": {}
      },
      "source": [
        "# 测试函数\n",
        "\n",
        "def test(model, device, test_loader):\n",
        "    model.eval()\n",
        "    test_loss = 0\n",
        "    correct = 0\n",
        "    with torch.no_grad():\n",
        "        for data, target in test_loader:\n",
        "            data, target = data.to(device), target.to(device)\n",
        "            output = model(data)\n",
        "            test_loss += F.nll_loss(output, target,\n",
        "                                    reduction='sum').item()\n",
        "            pred = output.max(1, keepdim=True)[1]\n",
        "            correct += pred.eq(target.view_as(pred)).sum().item()\n",
        "\n",
        "    test_loss /= len(test_loader.dataset)\n",
        "    print(\n",
        "        '\\nTest set: Average loss: {:.4f}, Accuracy: {}/{} ({:.3f}%)\\n'.format(\n",
        "            test_loss, correct, len(test_loader.dataset),\n",
        "            100. * correct / len(test_loader.dataset)))\n",
        "    return (float(correct) / len(test_loader.dataset))"
      ],
      "execution_count": 0,
      "outputs": []
    },
    {
      "cell_type": "code",
      "metadata": {
        "id": "4k_hdJE7GSPa",
        "colab_type": "code",
        "outputId": "7a026e64-db08-485b-8571-9f711f2f2a2e",
        "colab": {
          "base_uri": "https://localhost:8080/",
          "height": 2268
        }
      },
      "source": [
        "# 进行训练并输出结果\n",
        "\n",
        "result = []\n",
        "for epoch in range(1, EPOCHS + 1):\n",
        "    train(model, DEVICE, train_loader, optimizer, epoch)\n",
        "    accuracy = test(model, DEVICE, test_loader)\n",
        "    result.append(accuracy)\n",
        "\n",
        "plt.plot(range(1,11),result)\n",
        "plt.xticks(range(1,11))\n",
        "plt.xlabel('epoch')\n",
        "plt.ylabel('test accuracy')\n",
        "plt.title('CNN')"
      ],
      "execution_count": 10,
      "outputs": [
        {
          "output_type": "stream",
          "text": [
            "Train Epoch: 1 [90/795 (11%)]\tLoss: 2.790929\n",
            "Train Epoch: 1 [190/795 (24%)]\tLoss: 2.992549\n",
            "Train Epoch: 1 [290/795 (36%)]\tLoss: 2.379081\n",
            "Train Epoch: 1 [390/795 (49%)]\tLoss: 2.572126\n",
            "Train Epoch: 1 [490/795 (61%)]\tLoss: 2.600236\n",
            "Train Epoch: 1 [590/795 (74%)]\tLoss: 1.850500\n",
            "Train Epoch: 1 [690/795 (86%)]\tLoss: 2.377918\n",
            "Train Epoch: 1 [395/795 (99%)]\tLoss: 2.642223\n",
            "\n",
            "Test set: Average loss: 2.1840, Accuracy: 52/206 (25.243%)\n",
            "\n",
            "Train Epoch: 2 [90/795 (11%)]\tLoss: 2.303446\n",
            "Train Epoch: 2 [190/795 (24%)]\tLoss: 2.195807\n",
            "Train Epoch: 2 [290/795 (36%)]\tLoss: 2.248015\n",
            "Train Epoch: 2 [390/795 (49%)]\tLoss: 2.051998\n",
            "Train Epoch: 2 [490/795 (61%)]\tLoss: 1.903489\n",
            "Train Epoch: 2 [590/795 (74%)]\tLoss: 1.928535\n",
            "Train Epoch: 2 [690/795 (86%)]\tLoss: 1.345012\n",
            "Train Epoch: 2 [395/795 (99%)]\tLoss: 1.241487\n",
            "\n",
            "Test set: Average loss: 2.1139, Accuracy: 65/206 (31.553%)\n",
            "\n",
            "Train Epoch: 3 [90/795 (11%)]\tLoss: 1.505259\n",
            "Train Epoch: 3 [190/795 (24%)]\tLoss: 2.209826\n",
            "Train Epoch: 3 [290/795 (36%)]\tLoss: 2.088707\n",
            "Train Epoch: 3 [390/795 (49%)]\tLoss: 1.455515\n",
            "Train Epoch: 3 [490/795 (61%)]\tLoss: 1.358175\n",
            "Train Epoch: 3 [590/795 (74%)]\tLoss: 2.008701\n",
            "Train Epoch: 3 [690/795 (86%)]\tLoss: 2.204128\n",
            "Train Epoch: 3 [395/795 (99%)]\tLoss: 1.944165\n",
            "\n",
            "Test set: Average loss: 1.6606, Accuracy: 88/206 (42.718%)\n",
            "\n",
            "Train Epoch: 4 [90/795 (11%)]\tLoss: 1.217691\n",
            "Train Epoch: 4 [190/795 (24%)]\tLoss: 2.166674\n",
            "Train Epoch: 4 [290/795 (36%)]\tLoss: 0.509065\n",
            "Train Epoch: 4 [390/795 (49%)]\tLoss: 1.787744\n",
            "Train Epoch: 4 [490/795 (61%)]\tLoss: 1.331672\n",
            "Train Epoch: 4 [590/795 (74%)]\tLoss: 1.176030\n",
            "Train Epoch: 4 [690/795 (86%)]\tLoss: 1.151582\n",
            "Train Epoch: 4 [395/795 (99%)]\tLoss: 0.897872\n",
            "\n",
            "Test set: Average loss: 1.7207, Accuracy: 104/206 (50.485%)\n",
            "\n",
            "Train Epoch: 5 [90/795 (11%)]\tLoss: 0.990704\n",
            "Train Epoch: 5 [190/795 (24%)]\tLoss: 0.397559\n",
            "Train Epoch: 5 [290/795 (36%)]\tLoss: 0.458820\n",
            "Train Epoch: 5 [390/795 (49%)]\tLoss: 0.431102\n",
            "Train Epoch: 5 [490/795 (61%)]\tLoss: 0.544521\n",
            "Train Epoch: 5 [590/795 (74%)]\tLoss: 0.653446\n",
            "Train Epoch: 5 [690/795 (86%)]\tLoss: 0.500399\n",
            "Train Epoch: 5 [395/795 (99%)]\tLoss: 1.138926\n",
            "\n",
            "Test set: Average loss: 1.8509, Accuracy: 95/206 (46.117%)\n",
            "\n",
            "Train Epoch: 6 [90/795 (11%)]\tLoss: 0.553780\n",
            "Train Epoch: 6 [190/795 (24%)]\tLoss: 0.914862\n",
            "Train Epoch: 6 [290/795 (36%)]\tLoss: 0.436620\n",
            "Train Epoch: 6 [390/795 (49%)]\tLoss: 0.734378\n",
            "Train Epoch: 6 [490/795 (61%)]\tLoss: 0.813352\n",
            "Train Epoch: 6 [590/795 (74%)]\tLoss: 0.342582\n",
            "Train Epoch: 6 [690/795 (86%)]\tLoss: 0.220964\n",
            "Train Epoch: 6 [395/795 (99%)]\tLoss: 0.371476\n",
            "\n",
            "Test set: Average loss: 1.8312, Accuracy: 103/206 (50.000%)\n",
            "\n",
            "Train Epoch: 7 [90/795 (11%)]\tLoss: 0.813430\n",
            "Train Epoch: 7 [190/795 (24%)]\tLoss: 0.251822\n",
            "Train Epoch: 7 [290/795 (36%)]\tLoss: 0.958326\n",
            "Train Epoch: 7 [390/795 (49%)]\tLoss: 0.829491\n",
            "Train Epoch: 7 [490/795 (61%)]\tLoss: 0.665756\n",
            "Train Epoch: 7 [590/795 (74%)]\tLoss: 0.372773\n",
            "Train Epoch: 7 [690/795 (86%)]\tLoss: 0.364134\n",
            "Train Epoch: 7 [395/795 (99%)]\tLoss: 0.852606\n",
            "\n",
            "Test set: Average loss: 1.9226, Accuracy: 109/206 (52.913%)\n",
            "\n",
            "Train Epoch: 8 [90/795 (11%)]\tLoss: 0.184106\n",
            "Train Epoch: 8 [190/795 (24%)]\tLoss: 0.129507\n",
            "Train Epoch: 8 [290/795 (36%)]\tLoss: 0.727096\n",
            "Train Epoch: 8 [390/795 (49%)]\tLoss: 0.109515\n",
            "Train Epoch: 8 [490/795 (61%)]\tLoss: 0.210054\n",
            "Train Epoch: 8 [590/795 (74%)]\tLoss: 0.576821\n",
            "Train Epoch: 8 [690/795 (86%)]\tLoss: 0.150811\n",
            "Train Epoch: 8 [395/795 (99%)]\tLoss: 0.003599\n",
            "\n",
            "Test set: Average loss: 1.7808, Accuracy: 118/206 (57.282%)\n",
            "\n",
            "Train Epoch: 9 [90/795 (11%)]\tLoss: 0.137136\n",
            "Train Epoch: 9 [190/795 (24%)]\tLoss: 0.702268\n",
            "Train Epoch: 9 [290/795 (36%)]\tLoss: 0.042774\n",
            "Train Epoch: 9 [390/795 (49%)]\tLoss: 0.038787\n",
            "Train Epoch: 9 [490/795 (61%)]\tLoss: 0.201159\n",
            "Train Epoch: 9 [590/795 (74%)]\tLoss: 0.726645\n",
            "Train Epoch: 9 [690/795 (86%)]\tLoss: 0.046938\n",
            "Train Epoch: 9 [395/795 (99%)]\tLoss: 0.000049\n",
            "\n",
            "Test set: Average loss: 2.1654, Accuracy: 100/206 (48.544%)\n",
            "\n",
            "Train Epoch: 10 [90/795 (11%)]\tLoss: 0.011309\n",
            "Train Epoch: 10 [190/795 (24%)]\tLoss: 0.228160\n",
            "Train Epoch: 10 [290/795 (36%)]\tLoss: 0.423376\n",
            "Train Epoch: 10 [390/795 (49%)]\tLoss: 0.073545\n",
            "Train Epoch: 10 [490/795 (61%)]\tLoss: 0.423999\n",
            "Train Epoch: 10 [590/795 (74%)]\tLoss: 0.261999\n",
            "Train Epoch: 10 [690/795 (86%)]\tLoss: 0.143351\n",
            "Train Epoch: 10 [395/795 (99%)]\tLoss: 0.043535\n",
            "\n",
            "Test set: Average loss: 2.3662, Accuracy: 111/206 (53.883%)\n",
            "\n"
          ],
          "name": "stdout"
        },
        {
          "output_type": "execute_result",
          "data": {
            "text/plain": [
              "Text(0.5, 1.0, 'CNN')"
            ]
          },
          "metadata": {
            "tags": []
          },
          "execution_count": 10
        },
        {
          "output_type": "display_data",
          "data": {
            "image/png": "[encoded data removed]",
            "text/plain": [
              "<Figure size 432x288 with 1 Axes>"
            ]
          },
          "metadata": {
            "tags": []
          }
        }
      ]
    },
    {
      "cell_type": "code",
      "metadata": {
        "id": "CAQStEQQoYBq",
        "colab_type": "code",
        "colab": {}
      },
      "source": [
        "# 尝试相同深度但是卷积核数量更多的卷积网络模型\n",
        "\n",
        "class CNN_net_2(nn.Module):\n",
        "    def __init__(self):\n",
        "        super(CNN_net_2, self).__init__()\n",
        "        self.conv1 = nn.Conv2d(3, 20, 5)\n",
        "        self.pool1 = nn.MaxPool2d(2, 2)\n",
        "        self.conv2 = nn.Conv2d(20, 80, 5)\n",
        "        self.pool2 = nn.MaxPool2d(2, 2)\n",
        "        self.fc1 = nn.Linear(80*29*29, 2000)\n",
        "        self.fc2 = nn.Linear(2000, 19)\n",
        "        self.dropout=nn.Dropout()\n",
        "\n",
        "    def forward(self, x):\n",
        "        x = self.pool1(F.relu(self.conv1(x)))\n",
        "        x = self.pool2(F.relu(self.conv2(x)))\n",
        "        x = x.view(-1, 80*29*29)\n",
        "        x = F.relu(self.fc1(x))\n",
        "        x = self.dropout(x)\n",
        "        x = F.log_softmax(self.fc2(x), dim=1)\n",
        "        return x"
      ],
      "execution_count": 0,
      "outputs": []
    },
    {
      "cell_type": "code",
      "metadata": {
        "id": "IZtG0X7ipRp9",
        "colab_type": "code",
        "colab": {}
      },
      "source": [
        "# 尝试层数+1的卷积网络模型\n",
        "\n",
        "class CNN_net_3(nn.Module):\n",
        "    def __init__(self):\n",
        "        super(CNN_net_3, self).__init__()\n",
        "        self.conv1 = nn.Conv2d(3, 10, 3)\n",
        "        self.pool1 = nn.MaxPool2d(3, 3)\n",
        "        self.conv2 = nn.Conv2d(10, 20, 3)\n",
        "        self.pool2 = nn.MaxPool2d(2, 2)\n",
        "        self.conv3 = nn.Conv2d(20,40,3)\n",
        "        self.pool3 = nn.MaxPool2d(2, 2)\n",
        "        self.fc1 = nn.Linear(40*9*9, 250)\n",
        "        self.fc2 = nn.Linear(250, 19)\n",
        "        self.dropout=nn.Dropout()\n",
        "\n",
        "    def forward(self, x):\n",
        "        x = self.pool1(F.relu(self.conv1(x))) \n",
        "        x = self.pool2(F.relu(self.conv2(x))) \n",
        "        x = self.pool3(F.relu(self.conv3(x)))\n",
        "        x = x.view(-1, 40*9*9)\n",
        "        x = F.relu(self.fc1(x))\n",
        "        x = self.dropout(x)\n",
        "        x = F.log_softmax(self.fc2(x), dim=1)\n",
        "        return x"
      ],
      "execution_count": 0,
      "outputs": []
    },
    {
      "cell_type": "code",
      "metadata": {
        "id": "HzVoJ4yt5b1z",
        "colab_type": "code",
        "colab": {}
      },
      "source": [
        "# 实例化两个新的网络结构\n",
        "\n",
        "model_2 = CNN_net_2().to(DEVICE)\n",
        "model_3 = CNN_net_3().to(DEVICE)"
      ],
      "execution_count": 0,
      "outputs": []
    },
    {
      "cell_type": "code",
      "metadata": {
        "id": "cMFStt9QrOVS",
        "colab_type": "code",
        "colab": {
          "base_uri": "https://localhost:8080/",
          "height": 2268
        },
        "outputId": "a3897179-64c5-4865-b529-c3d3c93badc0"
      },
      "source": [
        "# 对model_2进行训练并输出结果\n",
        "\n",
        "result = []\n",
        "for epoch in range(1, EPOCHS + 1):\n",
        "    train(model_2, DEVICE, train_loader, optimizer, epoch)\n",
        "    accuracy = test(model_2, DEVICE, test_loader)\n",
        "    result.append(accuracy)\n",
        "\n",
        "plt.plot(range(1,EPOCHS + 1),result)\n",
        "plt.xticks(range(1,EPOCHS + 1))\n",
        "plt.xlabel('epoch')\n",
        "plt.ylabel('test accuracy')\n",
        "plt.title('CNN_net_2')"
      ],
      "execution_count": 14,
      "outputs": [
        {
          "output_type": "stream",
          "text": [
            "Train Epoch: 1 [90/795 (11%)]\tLoss: 2.938951\n",
            "Train Epoch: 1 [190/795 (24%)]\tLoss: 2.959462\n",
            "Train Epoch: 1 [290/795 (36%)]\tLoss: 2.929432\n",
            "Train Epoch: 1 [390/795 (49%)]\tLoss: 2.950557\n",
            "Train Epoch: 1 [490/795 (61%)]\tLoss: 2.935597\n",
            "Train Epoch: 1 [590/795 (74%)]\tLoss: 2.975019\n",
            "Train Epoch: 1 [690/795 (86%)]\tLoss: 2.939826\n",
            "Train Epoch: 1 [395/795 (99%)]\tLoss: 2.976959\n",
            "\n",
            "Test set: Average loss: 2.9425, Accuracy: 12/206 (5.825%)\n",
            "\n",
            "Train Epoch: 2 [90/795 (11%)]\tLoss: 2.942299\n",
            "Train Epoch: 2 [190/795 (24%)]\tLoss: 2.952573\n",
            "Train Epoch: 2 [290/795 (36%)]\tLoss: 2.940069\n",
            "Train Epoch: 2 [390/795 (49%)]\tLoss: 2.934343\n",
            "Train Epoch: 2 [490/795 (61%)]\tLoss: 2.933846\n",
            "Train Epoch: 2 [590/795 (74%)]\tLoss: 2.958867\n",
            "Train Epoch: 2 [690/795 (86%)]\tLoss: 2.952712\n",
            "Train Epoch: 2 [395/795 (99%)]\tLoss: 2.949512\n",
            "\n",
            "Test set: Average loss: 2.9425, Accuracy: 12/206 (5.825%)\n",
            "\n",
            "Train Epoch: 3 [90/795 (11%)]\tLoss: 2.939770\n",
            "Train Epoch: 3 [190/795 (24%)]\tLoss: 2.936378\n",
            "Train Epoch: 3 [290/795 (36%)]\tLoss: 2.924908\n",
            "Train Epoch: 3 [390/795 (49%)]\tLoss: 2.933474\n",
            "Train Epoch: 3 [490/795 (61%)]\tLoss: 2.944994\n",
            "Train Epoch: 3 [590/795 (74%)]\tLoss: 2.952253\n",
            "Train Epoch: 3 [690/795 (86%)]\tLoss: 2.960761\n",
            "Train Epoch: 3 [395/795 (99%)]\tLoss: 2.925949\n",
            "\n",
            "Test set: Average loss: 2.9425, Accuracy: 12/206 (5.825%)\n",
            "\n",
            "Train Epoch: 4 [90/795 (11%)]\tLoss: 2.951584\n",
            "Train Epoch: 4 [190/795 (24%)]\tLoss: 2.941876\n",
            "Train Epoch: 4 [290/795 (36%)]\tLoss: 2.945580\n",
            "Train Epoch: 4 [390/795 (49%)]\tLoss: 2.947941\n",
            "Train Epoch: 4 [490/795 (61%)]\tLoss: 2.937565\n",
            "Train Epoch: 4 [590/795 (74%)]\tLoss: 2.945333\n",
            "Train Epoch: 4 [690/795 (86%)]\tLoss: 2.964462\n",
            "Train Epoch: 4 [395/795 (99%)]\tLoss: 2.902094\n",
            "\n",
            "Test set: Average loss: 2.9425, Accuracy: 12/206 (5.825%)\n",
            "\n",
            "Train Epoch: 5 [90/795 (11%)]\tLoss: 2.947114\n",
            "Train Epoch: 5 [190/795 (24%)]\tLoss: 2.931360\n",
            "Train Epoch: 5 [290/795 (36%)]\tLoss: 2.938695\n",
            "Train Epoch: 5 [390/795 (49%)]\tLoss: 2.957787\n",
            "Train Epoch: 5 [490/795 (61%)]\tLoss: 2.934860\n",
            "Train Epoch: 5 [590/795 (74%)]\tLoss: 2.947379\n",
            "Train Epoch: 5 [690/795 (86%)]\tLoss: 2.939442\n",
            "Train Epoch: 5 [395/795 (99%)]\tLoss: 2.941705\n",
            "\n",
            "Test set: Average loss: 2.9425, Accuracy: 12/206 (5.825%)\n",
            "\n",
            "Train Epoch: 6 [90/795 (11%)]\tLoss: 2.953837\n",
            "Train Epoch: 6 [190/795 (24%)]\tLoss: 2.963064\n",
            "Train Epoch: 6 [290/795 (36%)]\tLoss: 2.934077\n",
            "Train Epoch: 6 [390/795 (49%)]\tLoss: 2.948921\n",
            "Train Epoch: 6 [490/795 (61%)]\tLoss: 2.948460\n",
            "Train Epoch: 6 [590/795 (74%)]\tLoss: 2.938276\n",
            "Train Epoch: 6 [690/795 (86%)]\tLoss: 2.942560\n",
            "Train Epoch: 6 [395/795 (99%)]\tLoss: 2.945196\n",
            "\n",
            "Test set: Average loss: 2.9425, Accuracy: 12/206 (5.825%)\n",
            "\n",
            "Train Epoch: 7 [90/795 (11%)]\tLoss: 2.941650\n",
            "Train Epoch: 7 [190/795 (24%)]\tLoss: 2.954531\n",
            "Train Epoch: 7 [290/795 (36%)]\tLoss: 2.933722\n",
            "Train Epoch: 7 [390/795 (49%)]\tLoss: 2.952831\n",
            "Train Epoch: 7 [490/795 (61%)]\tLoss: 2.956202\n",
            "Train Epoch: 7 [590/795 (74%)]\tLoss: 2.949317\n",
            "Train Epoch: 7 [690/795 (86%)]\tLoss: 2.921656\n",
            "Train Epoch: 7 [395/795 (99%)]\tLoss: 2.940723\n",
            "\n",
            "Test set: Average loss: 2.9425, Accuracy: 12/206 (5.825%)\n",
            "\n",
            "Train Epoch: 8 [90/795 (11%)]\tLoss: 2.957767\n",
            "Train Epoch: 8 [190/795 (24%)]\tLoss: 2.930910\n",
            "Train Epoch: 8 [290/795 (36%)]\tLoss: 2.939685\n",
            "Train Epoch: 8 [390/795 (49%)]\tLoss: 2.932765\n",
            "Train Epoch: 8 [490/795 (61%)]\tLoss: 2.955348\n",
            "Train Epoch: 8 [590/795 (74%)]\tLoss: 2.954650\n",
            "Train Epoch: 8 [690/795 (86%)]\tLoss: 2.960681\n",
            "Train Epoch: 8 [395/795 (99%)]\tLoss: 2.973709\n",
            "\n",
            "Test set: Average loss: 2.9425, Accuracy: 12/206 (5.825%)\n",
            "\n",
            "Train Epoch: 9 [90/795 (11%)]\tLoss: 2.958268\n",
            "Train Epoch: 9 [190/795 (24%)]\tLoss: 2.943356\n",
            "Train Epoch: 9 [290/795 (36%)]\tLoss: 2.952776\n",
            "Train Epoch: 9 [390/795 (49%)]\tLoss: 2.954151\n",
            "Train Epoch: 9 [490/795 (61%)]\tLoss: 2.939672\n",
            "Train Epoch: 9 [590/795 (74%)]\tLoss: 2.954999\n",
            "Train Epoch: 9 [690/795 (86%)]\tLoss: 2.935045\n",
            "Train Epoch: 9 [395/795 (99%)]\tLoss: 2.973173\n",
            "\n",
            "Test set: Average loss: 2.9425, Accuracy: 12/206 (5.825%)\n",
            "\n",
            "Train Epoch: 10 [90/795 (11%)]\tLoss: 2.950601\n",
            "Train Epoch: 10 [190/795 (24%)]\tLoss: 2.949322\n",
            "Train Epoch: 10 [290/795 (36%)]\tLoss: 2.942587\n",
            "Train Epoch: 10 [390/795 (49%)]\tLoss: 2.960233\n",
            "Train Epoch: 10 [490/795 (61%)]\tLoss: 2.960644\n",
            "Train Epoch: 10 [590/795 (74%)]\tLoss: 2.934330\n",
            "Train Epoch: 10 [690/795 (86%)]\tLoss: 2.949668\n",
            "Train Epoch: 10 [395/795 (99%)]\tLoss: 2.944891\n",
            "\n",
            "Test set: Average loss: 2.9425, Accuracy: 12/206 (5.825%)\n",
            "\n"
          ],
          "name": "stdout"
        },
        {
          "output_type": "execute_result",
          "data": {
            "text/plain": [
              "Text(0.5, 1.0, 'CNN_net_2')"
            ]
          },
          "metadata": {
            "tags": []
          },
          "execution_count": 14
        },
        {
          "output_type": "display_data",
          "data": {
            "image/png": "[encoded data removed]",
            "text/plain": [
              "<Figure size 432x288 with 1 Axes>"
            ]
          },
          "metadata": {
            "tags": []
          }
        }
      ]
    },
    {
      "cell_type": "code",
      "metadata": {
        "id": "osYBvCcvrOZT",
        "colab_type": "code",
        "colab": {
          "base_uri": "https://localhost:8080/",
          "height": 2268
        },
        "outputId": "10dd9a2c-2683-4fb3-fb30-dd0e87a92b47"
      },
      "source": [
        "# 对model_2进行训练并输出结果\n",
        "\n",
        "result = []\n",
        "for epoch in range(1, EPOCHS + 1):\n",
        "    train(model_3, DEVICE, train_loader, optimizer, epoch)\n",
        "    accuracy = test(model_3, DEVICE, test_loader)\n",
        "    result.append(accuracy)\n",
        "\n",
        "plt.plot(range(1,EPOCHS + 1),result)\n",
        "plt.xticks(range(1,EPOCHS + 1))\n",
        "plt.xlabel('epoch')\n",
        "plt.ylabel('test accuracy')\n",
        "plt.title('CNN_net_3')"
      ],
      "execution_count": 15,
      "outputs": [
        {
          "output_type": "stream",
          "text": [
            "Train Epoch: 1 [90/795 (11%)]\tLoss: 2.950225\n",
            "Train Epoch: 1 [190/795 (24%)]\tLoss: 2.956111\n",
            "Train Epoch: 1 [290/795 (36%)]\tLoss: 2.940902\n",
            "Train Epoch: 1 [390/795 (49%)]\tLoss: 2.937792\n",
            "Train Epoch: 1 [490/795 (61%)]\tLoss: 2.946189\n",
            "Train Epoch: 1 [590/795 (74%)]\tLoss: 2.962553\n",
            "Train Epoch: 1 [690/795 (86%)]\tLoss: 2.927288\n",
            "Train Epoch: 1 [395/795 (99%)]\tLoss: 2.946496\n",
            "\n",
            "Test set: Average loss: 2.9460, Accuracy: 12/206 (5.825%)\n",
            "\n",
            "Train Epoch: 2 [90/795 (11%)]\tLoss: 2.952048\n",
            "Train Epoch: 2 [190/795 (24%)]\tLoss: 2.949342\n",
            "Train Epoch: 2 [290/795 (36%)]\tLoss: 2.952216\n",
            "Train Epoch: 2 [390/795 (49%)]\tLoss: 2.941547\n",
            "Train Epoch: 2 [490/795 (61%)]\tLoss: 2.935666\n",
            "Train Epoch: 2 [590/795 (74%)]\tLoss: 2.932777\n",
            "Train Epoch: 2 [690/795 (86%)]\tLoss: 2.948546\n",
            "Train Epoch: 2 [395/795 (99%)]\tLoss: 2.937360\n",
            "\n",
            "Test set: Average loss: 2.9460, Accuracy: 12/206 (5.825%)\n",
            "\n",
            "Train Epoch: 3 [90/795 (11%)]\tLoss: 2.950754\n",
            "Train Epoch: 3 [190/795 (24%)]\tLoss: 2.962013\n",
            "Train Epoch: 3 [290/795 (36%)]\tLoss: 2.943476\n",
            "Train Epoch: 3 [390/795 (49%)]\tLoss: 2.951204\n",
            "Train Epoch: 3 [490/795 (61%)]\tLoss: 2.935954\n",
            "Train Epoch: 3 [590/795 (74%)]\tLoss: 2.941095\n",
            "Train Epoch: 3 [690/795 (86%)]\tLoss: 2.943750\n",
            "Train Epoch: 3 [395/795 (99%)]\tLoss: 2.949527\n",
            "\n",
            "Test set: Average loss: 2.9460, Accuracy: 12/206 (5.825%)\n",
            "\n",
            "Train Epoch: 4 [90/795 (11%)]\tLoss: 2.956602\n",
            "Train Epoch: 4 [190/795 (24%)]\tLoss: 2.963635\n",
            "Train Epoch: 4 [290/795 (36%)]\tLoss: 2.940626\n",
            "Train Epoch: 4 [390/795 (49%)]\tLoss: 2.951116\n",
            "Train Epoch: 4 [490/795 (61%)]\tLoss: 2.941967\n",
            "Train Epoch: 4 [590/795 (74%)]\tLoss: 2.932130\n",
            "Train Epoch: 4 [690/795 (86%)]\tLoss: 2.943310\n",
            "Train Epoch: 4 [395/795 (99%)]\tLoss: 2.935900\n",
            "\n",
            "Test set: Average loss: 2.9460, Accuracy: 12/206 (5.825%)\n",
            "\n",
            "Train Epoch: 5 [90/795 (11%)]\tLoss: 2.935730\n",
            "Train Epoch: 5 [190/795 (24%)]\tLoss: 2.936984\n",
            "Train Epoch: 5 [290/795 (36%)]\tLoss: 2.954528\n",
            "Train Epoch: 5 [390/795 (49%)]\tLoss: 2.962652\n",
            "Train Epoch: 5 [490/795 (61%)]\tLoss: 2.947703\n",
            "Train Epoch: 5 [590/795 (74%)]\tLoss: 2.956084\n",
            "Train Epoch: 5 [690/795 (86%)]\tLoss: 2.950906\n",
            "Train Epoch: 5 [395/795 (99%)]\tLoss: 2.970960\n",
            "\n",
            "Test set: Average loss: 2.9460, Accuracy: 12/206 (5.825%)\n",
            "\n",
            "Train Epoch: 6 [90/795 (11%)]\tLoss: 2.947448\n",
            "Train Epoch: 6 [190/795 (24%)]\tLoss: 2.931451\n",
            "Train Epoch: 6 [290/795 (36%)]\tLoss: 2.961113\n",
            "Train Epoch: 6 [390/795 (49%)]\tLoss: 2.947017\n",
            "Train Epoch: 6 [490/795 (61%)]\tLoss: 2.942230\n",
            "Train Epoch: 6 [590/795 (74%)]\tLoss: 2.921365\n",
            "Train Epoch: 6 [690/795 (86%)]\tLoss: 2.951988\n",
            "Train Epoch: 6 [395/795 (99%)]\tLoss: 2.936784\n",
            "\n",
            "Test set: Average loss: 2.9460, Accuracy: 12/206 (5.825%)\n",
            "\n",
            "Train Epoch: 7 [90/795 (11%)]\tLoss: 2.940704\n",
            "Train Epoch: 7 [190/795 (24%)]\tLoss: 2.967469\n",
            "Train Epoch: 7 [290/795 (36%)]\tLoss: 2.948897\n",
            "Train Epoch: 7 [390/795 (49%)]\tLoss: 2.970272\n",
            "Train Epoch: 7 [490/795 (61%)]\tLoss: 2.950797\n",
            "Train Epoch: 7 [590/795 (74%)]\tLoss: 2.921753\n",
            "Train Epoch: 7 [690/795 (86%)]\tLoss: 2.942067\n",
            "Train Epoch: 7 [395/795 (99%)]\tLoss: 2.922708\n",
            "\n",
            "Test set: Average loss: 2.9460, Accuracy: 12/206 (5.825%)\n",
            "\n",
            "Train Epoch: 8 [90/795 (11%)]\tLoss: 2.952790\n",
            "Train Epoch: 8 [190/795 (24%)]\tLoss: 2.931269\n",
            "Train Epoch: 8 [290/795 (36%)]\tLoss: 2.954063\n",
            "Train Epoch: 8 [390/795 (49%)]\tLoss: 2.949340\n",
            "Train Epoch: 8 [490/795 (61%)]\tLoss: 2.950279\n",
            "Train Epoch: 8 [590/795 (74%)]\tLoss: 2.945814\n",
            "Train Epoch: 8 [690/795 (86%)]\tLoss: 2.930293\n",
            "Train Epoch: 8 [395/795 (99%)]\tLoss: 2.940250\n",
            "\n",
            "Test set: Average loss: 2.9460, Accuracy: 12/206 (5.825%)\n",
            "\n",
            "Train Epoch: 9 [90/795 (11%)]\tLoss: 2.943534\n",
            "Train Epoch: 9 [190/795 (24%)]\tLoss: 2.957156\n",
            "Train Epoch: 9 [290/795 (36%)]\tLoss: 2.944153\n",
            "Train Epoch: 9 [390/795 (49%)]\tLoss: 2.949997\n",
            "Train Epoch: 9 [490/795 (61%)]\tLoss: 2.964267\n",
            "Train Epoch: 9 [590/795 (74%)]\tLoss: 2.956396\n",
            "Train Epoch: 9 [690/795 (86%)]\tLoss: 2.930526\n",
            "Train Epoch: 9 [395/795 (99%)]\tLoss: 2.941887\n",
            "\n",
            "Test set: Average loss: 2.9460, Accuracy: 12/206 (5.825%)\n",
            "\n",
            "Train Epoch: 10 [90/795 (11%)]\tLoss: 2.953032\n",
            "Train Epoch: 10 [190/795 (24%)]\tLoss: 2.895923\n",
            "Train Epoch: 10 [290/795 (36%)]\tLoss: 2.955925\n",
            "Train Epoch: 10 [390/795 (49%)]\tLoss: 2.934754\n",
            "Train Epoch: 10 [490/795 (61%)]\tLoss: 2.956224\n",
            "Train Epoch: 10 [590/795 (74%)]\tLoss: 2.951260\n",
            "Train Epoch: 10 [690/795 (86%)]\tLoss: 2.940560\n",
            "Train Epoch: 10 [395/795 (99%)]\tLoss: 2.954722\n",
            "\n",
            "Test set: Average loss: 2.9460, Accuracy: 12/206 (5.825%)\n",
            "\n"
          ],
          "name": "stdout"
        },
        {
          "output_type": "execute_result",
          "data": {
            "text/plain": [
              "Text(0.5, 1.0, 'CNN_net_3')"
            ]
          },
          "metadata": {
            "tags": []
          },
          "execution_count": 15
        },
        {
          "output_type": "display_data",
          "data": {
            "image/png": "[encoded data removed]",
            "text/plain": [
              "<Figure size 432x288 with 1 Axes>"
            ]
          },
          "metadata": {
            "tags": []
          }
        }
      ]
    }
  ]
}
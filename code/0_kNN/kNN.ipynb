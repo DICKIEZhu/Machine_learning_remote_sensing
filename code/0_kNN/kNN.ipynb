{
  "nbformat": 4,
  "nbformat_minor": 0,
  "metadata": {
    "colab": {
      "name": "kNN.ipynb",
      "version": "0.3.2",
      "provenance": [],
      "collapsed_sections": []
    },
    "kernelspec": {
      "name": "python3",
      "display_name": "Python 3"
    },
    "accelerator": "GPU"
  },
  "cells": [
    {
      "cell_type": "code",
      "metadata": {
        "id": "yfPaNL4T2Ipq",
        "colab_type": "code",
        "outputId": "dcd8292c-0b6f-4a7f-f150-96c071a2aeb9",
        "colab": {
          "base_uri": "https://localhost:8080/",
          "height": 126
        }
      },
      "source": [
        "# 获取Google网盘的访问权限\n",
        "\n",
        "from google.colab import drive\n",
        "drive.mount('/content/gdrive')"
      ],
      "execution_count": 1,
      "outputs": [
        {
          "output_type": "stream",
          "text": [
            "Go to this URL in a browser: https://accounts.google.com/o/oauth2/auth?client_id=947318989803-6bn6qk8qdgf4n4g3pfee6491hc0brc4i.apps.googleusercontent.com&redirect_uri=urn%3Aietf%3Awg%3Aoauth%3A2.0%3Aoob&scope=email%20https%3A%2F%2Fwww.googleapis.com%2Fauth%2Fdocs.test%20https%3A%2F%2Fwww.googleapis.com%2Fauth%2Fdrive%20https%3A%2F%2Fwww.googleapis.com%2Fauth%2Fdrive.photos.readonly%20https%3A%2F%2Fwww.googleapis.com%2Fauth%2Fpeopleapi.readonly&response_type=code\n",
            "\n",
            "Enter your authorization code:\n",
            "··········\n",
            "Mounted at /content/gdrive\n"
          ],
          "name": "stdout"
        }
      ]
    },
    {
      "cell_type": "code",
      "metadata": {
        "id": "0SoTJXDM2eZh",
        "colab_type": "code",
        "colab": {}
      },
      "source": [
        "import torch\n",
        "import torch.nn as nn\n",
        "import torch.nn.functional as F\n",
        "import torch.optim as optim\n",
        "import numpy as np\n",
        "from torchvision import datasets, transforms\n",
        "from torch.utils.data import Dataset\n",
        "from PIL import Image\n",
        "import matplotlib.pyplot as plt"
      ],
      "execution_count": 0,
      "outputs": []
    },
    {
      "cell_type": "code",
      "metadata": {
        "id": "TBVhAde-_wnb",
        "colab_type": "code",
        "colab": {}
      },
      "source": [
        "# 获取训练集并对训练集的图像进行reshape\n",
        "\n",
        "train_txt_path = './gdrive/My Drive/remote/RSDataset/train.txt'\n",
        "img = []\n",
        "train_imgs = [];\n",
        "train_label = []\n",
        "fh = open(train_txt_path, 'r')\n",
        "for line in fh:\n",
        "    line = line.rstrip()\n",
        "    words = line.split()\n",
        "    img = Image.open(words[0]+' '+words[1]).convert('RGB');\n",
        "    img = img.resize((40,40))\n",
        "    img = np.array(img)\n",
        "    train_imgs.append(img)\n",
        "    train_label.append(int(words[2]))\n",
        "train_imgs = np.array(train_imgs)\n",
        "train_label = np.array(train_label)\n",
        "train_imgs = np.reshape(train_imgs, (train_imgs.shape[0], -1))"
      ],
      "execution_count": 0,
      "outputs": []
    },
    {
      "cell_type": "code",
      "metadata": {
        "id": "aXzwiJOVCi-K",
        "colab_type": "code",
        "colab": {}
      },
      "source": [
        "# 获取测试集并对测试集的图像进行reshape\n",
        "\n",
        "test_txt_path = './gdrive/My Drive/remote/RSDataset/test.txt'\n",
        "img = []\n",
        "test_imgs = [];\n",
        "test_label = []\n",
        "fh = open(test_txt_path, 'r')\n",
        "for line in fh:\n",
        "    line = line.rstrip()\n",
        "    words = line.split()\n",
        "    img = Image.open(words[0]+' '+words[1]).convert('RGB');\n",
        "    img = img.resize((40,40))\n",
        "    img = np.array(img)\n",
        "    test_imgs.append(img)\n",
        "    test_label.append(int(words[2]))\n",
        "test_imgs = np.array(test_imgs)\n",
        "test_label = np.array(test_label)\n",
        "test_imgs = np.reshape(test_imgs, (test_imgs.shape[0], -1))"
      ],
      "execution_count": 0,
      "outputs": []
    },
    {
      "cell_type": "code",
      "metadata": {
        "id": "_5UGIZKzEFcp",
        "colab_type": "code",
        "colab": {}
      },
      "source": [
        "# 构建KNearestNeighbor类\n",
        "\n",
        "class KNearestNeighbor(object):\n",
        "  \"\"\" a kNN classifier with L2 distance \"\"\"\n",
        "\n",
        "  def __init__(self):\n",
        "    pass\n",
        "\n",
        "  def train(self, X, y):\n",
        "\n",
        "    self.X_train = X\n",
        "    self.y_train = y\n",
        "    \n",
        "  def predict(self, X, k=1):\n",
        "\n",
        "    dists = self.compute_distances_one_loop(X)\n",
        "\n",
        "\n",
        "    return self.predict_labels(dists, k=k)\n",
        "\n",
        "\n",
        "  def compute_distances_one_loop(self, X):\n",
        "\n",
        "\n",
        "    num_test = X.shape[0]\n",
        "    num_train = self.X_train.shape[0]\n",
        "    dists = np.zeros((num_test, num_train))\n",
        "    for i in range(num_test):\n",
        "      pass\n",
        "      dists[i, :] = np.linalg.norm(self.X_train - X[i,:], axis = 1)\n",
        "\n",
        "    return dists\n",
        "\n",
        "  def predict_labels(self, dists, k=1):\n",
        "\n",
        "    num_test = dists.shape[0]\n",
        "    y_pred = np.zeros(num_test)\n",
        "    for i in range(num_test):\n",
        "\n",
        "      closest_y = []\n",
        "\n",
        "      pass\n",
        "      closest_y = self.y_train[np.argsort(dists[i])[0:k]]\n",
        "\n",
        "      pass\n",
        "      y_pred[i] = np.bincount(closest_y).argmax()\n",
        "\n",
        "    return y_pred"
      ],
      "execution_count": 0,
      "outputs": []
    },
    {
      "cell_type": "code",
      "metadata": {
        "id": "rguPeA0fEI-5",
        "colab_type": "code",
        "colab": {}
      },
      "source": [
        "# 实例化分类器并加载训练集\n",
        "\n",
        "classifier = KNearestNeighbor()\n",
        "classifier.train(train_imgs, train_label)"
      ],
      "execution_count": 0,
      "outputs": []
    },
    {
      "cell_type": "code",
      "metadata": {
        "id": "f7xSISX9dwum",
        "colab_type": "code",
        "colab": {
          "base_uri": "https://localhost:8080/",
          "height": 35
        },
        "outputId": "bdbab0c9-f766-4290-c2f5-c3ecc1f94067"
      },
      "source": [
        "# 测试k=1时的效果\n",
        "num_test = test_label.shape[0]\n",
        "\n",
        "test_pred = classifier.predict(test_imgs, k=1)\n",
        "num_correct = np.sum(test_pred == test_label)\n",
        "accuracy = float(num_correct) / num_test\n",
        "print('Got %d / %d correct => accuracy: %f' % (num_correct, num_test, accuracy))"
      ],
      "execution_count": 8,
      "outputs": [
        {
          "output_type": "stream",
          "text": [
            "Got 33 / 206 correct => accuracy: 0.160194\n"
          ],
          "name": "stdout"
        }
      ]
    },
    {
      "cell_type": "code",
      "metadata": {
        "id": "ECD5XKgFPJO0",
        "colab_type": "code",
        "outputId": "465c7c11-8eb0-4ad5-b2b8-12a6814d2bdd",
        "colab": {
          "base_uri": "https://localhost:8080/",
          "height": 106
        }
      },
      "source": [
        "# 尝试不同的k值对分类效果的影响\n",
        "\n",
        "num_test = test_label.shape[0]\n",
        "accuracy = []\n",
        "\n",
        "k = [1,3,5,10,15]\n",
        "for i,element in enumerate(k):\n",
        "  test_pred = classifier.predict(test_imgs, k=element)\n",
        "  num_correct = np.sum(test_pred == test_label)\n",
        "  accuracy.append(float(num_correct) / num_test)\n",
        "  print('k = %d : Got %d / %d correct => accuracy: %f' % (k[i], num_correct, num_test, accuracy[i]))"
      ],
      "execution_count": 9,
      "outputs": [
        {
          "output_type": "stream",
          "text": [
            "k = 1 : Got 33 / 206 correct => accuracy: 0.160194\n",
            "k = 3 : Got 29 / 206 correct => accuracy: 0.140777\n",
            "k = 5 : Got 24 / 206 correct => accuracy: 0.116505\n",
            "k = 10 : Got 21 / 206 correct => accuracy: 0.101942\n",
            "k = 15 : Got 21 / 206 correct => accuracy: 0.101942\n"
          ],
          "name": "stdout"
        }
      ]
    },
    {
      "cell_type": "code",
      "metadata": {
        "id": "D2jJvWT8FF8P",
        "colab_type": "code",
        "outputId": "23d78eac-cb47-4d6e-b7c0-1650b206f5e1",
        "colab": {
          "base_uri": "https://localhost:8080/",
          "height": 313
        }
      },
      "source": [
        "# 绘制曲线图\n",
        "\n",
        "my_x_ticks = [1,3,5,10,15]\n",
        "plt.xticks(my_x_ticks)\n",
        "plt.plot(k,accuracy)\n",
        "plt.xlabel('k')\n",
        "plt.ylabel('accuracy')\n",
        "plt.title('kNN')"
      ],
      "execution_count": 10,
      "outputs": [
        {
          "output_type": "execute_result",
          "data": {
            "text/plain": [
              "Text(0.5, 1.0, 'kNN')"
            ]
          },
          "metadata": {
            "tags": []
          },
          "execution_count": 10
        },
        {
          "output_type": "display_data",
          "data": {
            "image/png": "[encoded data removed]",
            "text/plain": [
              "<Figure size 432x288 with 1 Axes>"
            ]
          },
          "metadata": {
            "tags": []
          }
        }
      ]
    }
  ]
}